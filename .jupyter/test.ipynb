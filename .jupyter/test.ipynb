{
 "nbformat": 4,
 "nbformat_minor": 2,
 "metadata": {
  "language_info": {
   "name": "python",
   "codemirror_mode": {
    "name": "ipython",
    "version": 3
   },
   "version": "3.7.6-final"
  },
  "orig_nbformat": 2,
  "file_extension": ".py",
  "mimetype": "text/x-python",
  "name": "python",
  "npconvert_exporter": "python",
  "pygments_lexer": "ipython3",
  "version": 3,
  "kernelspec": {
   "name": "python37664bitpypikapipenvf14132dcc06e4080b2a29b2c0eca137c",
   "display_name": "Python 3.7.6 64-bit ('pypika': pipenv)"
  }
 },
 "cells": [
  {
   "cell_type": "code",
   "execution_count": null,
   "metadata": {},
   "outputs": [],
   "source": [
    "import os, sys\n",
    "sys.path.append(os.path.abspath('../../'))\n",
    "sys.path\n"
   ]
  },
  {
   "cell_type": "code",
   "execution_count": null,
   "metadata": {},
   "outputs": [],
   "source": [
    "from pypika.dialects_ex import MSSQLv2kQuery as Query \n",
    "from pypika import (\n",
    "    Database, \n",
    ")\n",
    "sui_master = Database('sui_master')\n",
    "tmasa = sui_master.dbo.tmasa\n",
    "q = Query.from_(tmasa).select('*').top(10)\n",
    "\n",
    "q\n"
   ]
  },
  {
   "cell_type": "code",
   "execution_count": null,
   "metadata": {},
   "outputs": [],
   "source": []
  }
 ]
}